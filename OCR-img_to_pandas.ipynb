{
 "cells": [
  {
   "cell_type": "code",
   "execution_count": 2,
   "metadata": {},
   "outputs": [],
   "source": [
    "from PIL import Image \n",
    "import os \n",
    "import pytesseract \n",
    "import pandas as pd "
   ]
  },
  {
   "cell_type": "code",
   "execution_count": 8,
   "metadata": {},
   "outputs": [],
   "source": [
    "pytesseract.pytesseract.tesseract_cmd = 'C:\\\\Program Files\\\\Tesseract-OCR\\\\tesseract.exe'\n",
    "\n",
    "path = \"D:\\\\CS\\\\Research\\\\CCPS_Research\""
   ]
  },
  {
   "cell_type": "code",
   "execution_count": 31,
   "metadata": {},
   "outputs": [],
   "source": [
    "def extract_text(path):\n",
    "    data = {}\n",
    "    for images in os.listdir(path):\n",
    "        if images.endswith(\".jpg\") or images.endswith(\".jpeg\"):\n",
    "            print(\"file name: \",images)\n",
    "            text = pytesseract.image_to_string(Image.open(f\"{path}\\\\{images}\"))\n",
    "            print(\"data: \",text)\n",
    "            data[images] = text \n",
    "            \n",
    "    print(\"End of all file in the directory\")\n",
    "    print(data)\n",
    "    return data"
   ]
  },
  {
   "cell_type": "code",
   "execution_count": 39,
   "metadata": {},
   "outputs": [
    {
     "name": "stdout",
     "output_type": "stream",
     "text": [
      "file name:  images.jpeg\n",
      "data:  This is a handwritten\n",
      "example\n",
      "\n",
      "Write as goal as you can.\n",
      "\n",
      "End of all file in the directory\n",
      "{'images.jpeg': 'This is a handwritten\\nexample\\n\\nWrite as goal as you can.\\n'}\n"
     ]
    }
   ],
   "source": [
    "data = extract_text(path)"
   ]
  },
  {
   "cell_type": "code",
   "execution_count": 40,
   "metadata": {},
   "outputs": [
    {
     "name": "stdout",
     "output_type": "stream",
     "text": [
      "      filename                                               text\n",
      "0  images.jpeg  This is a handwritten\\nexample\\n\\nWrite as goa...\n"
     ]
    }
   ],
   "source": [
    "df = pd.DataFrame(data.items(), columns=['filename','text'])\n",
    "print(df)"
   ]
  }
 ],
 "metadata": {
  "kernelspec": {
   "display_name": "Python 3",
   "language": "python",
   "name": "python3"
  },
  "language_info": {
   "codemirror_mode": {
    "name": "ipython",
    "version": 3
   },
   "file_extension": ".py",
   "mimetype": "text/x-python",
   "name": "python",
   "nbconvert_exporter": "python",
   "pygments_lexer": "ipython3",
   "version": "3.12.0"
  }
 },
 "nbformat": 4,
 "nbformat_minor": 2
}
