{
 "cells": [
  {
   "cell_type": "code",
   "execution_count": 19,
   "metadata": {},
   "outputs": [],
   "source": [
    "import numpy as np\n",
    "import pandas as pd\n",
    "import matplotlib.pyplot as plt\n",
    "import seaborn as sns \n",
    "# from pprint import pprint\n",
    "\n",
    "# from sklearn.datasets import fetch_20newsgroups\n",
    "\n",
    "import re\n",
    "import nltk\n",
    "from nltk.corpus import stopwords\n",
    "\n",
    "import time\n",
    "from sentence_transformers import SentenceTransformer\n",
    "\n",
    "from PIL import Image \n",
    "import os \n",
    "import pytesseract "
   ]
  },
  {
   "cell_type": "code",
   "execution_count": 20,
   "metadata": {},
   "outputs": [],
   "source": [
    "pytesseract.pytesseract.tesseract_cmd = 'C:\\\\Program Files\\\\Tesseract-OCR\\\\tesseract.exe'\n",
    "\n",
    "path = \"D:\\\\CS\\\\Research\\\\CCPS_Research\""
   ]
  },
  {
   "cell_type": "code",
   "execution_count": 21,
   "metadata": {},
   "outputs": [],
   "source": [
    "def extract_text(path):\n",
    "    data = {}\n",
    "    for images in os.listdir(path):\n",
    "        if images.endswith(\".jpg\") or images.endswith(\".jpeg\"):\n",
    "            # print(\"file name: \",images)\n",
    "            text = pytesseract.image_to_string(Image.open(f\"{path}\\\\{images}\"))\n",
    "            # print(\"data: \",text)\n",
    "            data[images] = text \n",
    "            \n",
    "    # print(\"End of all file in the directory\")\n",
    "    # print(data)\n",
    "    return data"
   ]
  },
  {
   "cell_type": "code",
   "execution_count": 22,
   "metadata": {},
   "outputs": [],
   "source": [
    "def preprocess_text(text: str) -> str:\n",
    "    # remove links\n",
    "    text = re.sub(r\"http\\S+\", \"\", text)\n",
    "    # remove special chars and numbers\n",
    "    text = re.sub(\"[^A-Za-z]+\", \" \", text)\n",
    "    \n",
    "    # remove stopwords\n",
    "    tokens = nltk.word_tokenize(text)\n",
    "    tokens = [w for w in tokens if not w.lower() in stopwords.words(\"english\")]\n",
    "    text = \" \".join(tokens)\n",
    "    text = text.lower().strip()\n",
    "    \n",
    "    return text"
   ]
  },
  {
   "cell_type": "code",
   "execution_count": 23,
   "metadata": {},
   "outputs": [
    {
     "name": "stdout",
     "output_type": "stream",
     "text": [
      "       filename                                               text\n",
      "0  images1.jpeg  This is a handwritten\\nexample\\n\\nWrite as goa...\n",
      "1  images2.jpeg                              Gecaus es\\nbe doing\\n\n",
      "2  images3.jpeg  \\Ne Staet With Good\\n\\nGecause all businesses ...\n"
     ]
    }
   ],
   "source": [
    "data = extract_text(path)\n",
    "df = pd.DataFrame(data.items(), columns=['filename','text'])\n",
    "print(df)"
   ]
  },
  {
   "cell_type": "code",
   "execution_count": 24,
   "metadata": {},
   "outputs": [],
   "source": [
    "df['text_cleaned'] = df['text'].apply(lambda text: preprocess_text(text))\n",
    "df = df[df['text_cleaned'] != '']"
   ]
  },
  {
   "cell_type": "code",
   "execution_count": 25,
   "metadata": {},
   "outputs": [
    {
     "name": "stdout",
     "output_type": "stream",
     "text": [
      "Elapsed time: 2.88 seconds\n"
     ]
    }
   ],
   "source": [
    "st = time.time()\n",
    "\n",
    "model = SentenceTransformer('paraphrase-MiniLM-L6-v2')\n",
    "df['encode_transforemers'] = df['text_cleaned'].apply(lambda text: model.encode(text, convert_to_numpy=True).flatten())\n",
    "\n",
    "et = time.time()\n",
    "\n",
    "print(\"Elapsed time: {:.2f} seconds\".format(et - st))\n",
    "\n",
    "X_transformers = np.vstack(df['encode_transforemers'])"
   ]
  },
  {
   "cell_type": "code",
   "execution_count": 26,
   "metadata": {},
   "outputs": [
    {
     "name": "stdout",
     "output_type": "stream",
     "text": [
      "[[-0.03200226  0.34872943 -0.7731296  ...  0.46779212 -0.17408255\n",
      "   0.57300574]\n",
      " [ 0.07835877  0.4736254  -0.32124588 ... -0.17910622  0.17933613\n",
      "   0.09741718]\n",
      " [-0.10435122 -0.20840804 -0.40547118 ... -0.80716616 -0.02120171\n",
      "   0.44971478]]\n"
     ]
    }
   ],
   "source": [
    "print(X_transformers)"
   ]
  },
  {
   "cell_type": "code",
   "execution_count": 27,
   "metadata": {},
   "outputs": [
    {
     "data": {
      "image/png": "[encoded data removed]",
      "text/plain": [
       "<Figure size 640x480 with 1 Axes>"
      ]
     },
     "metadata": {},
     "output_type": "display_data"
    }
   ],
   "source": [
    "plt.scatter(X_transformers[:,0], X_transformers[:,1])\n",
    "plt.show()"
   ]
  },
  {
   "cell_type": "code",
   "execution_count": 28,
   "metadata": {},
   "outputs": [],
   "source": [
    "cl = {-1: 'k',\n",
    " 0 : 'r',\n",
    " 1 : 'g',\n",
    " 2 : 'b',\n",
    " 3 : 'c',\n",
    " 4 : 'm',\n",
    " 5 : 'y'}"
   ]
  },
  {
   "cell_type": "code",
   "execution_count": 29,
   "metadata": {},
   "outputs": [
    {
     "name": "stdout",
     "output_type": "stream",
     "text": [
      "DBSCAN\n",
      "[-1]\n",
      "[-1 -1 -1]\n"
     ]
    }
   ],
   "source": [
    "from sklearn.cluster import DBSCAN \n",
    "\n",
    "db_default = DBSCAN().fit(X_transformers) \n",
    "db_labels = db_default.labels_\n",
    "\n",
    "print(\"DBSCAN\")\n",
    "print(np.unique(db_default.labels_))\n",
    "print(db_default.labels_)"
   ]
  },
  {
   "cell_type": "code",
   "execution_count": 30,
   "metadata": {},
   "outputs": [
    {
     "data": {
      "image/png": "[encoded data removed]",
      "text/plain": [
       "<Figure size 640x480 with 1 Axes>"
      ]
     },
     "metadata": {},
     "output_type": "display_data"
    }
   ],
   "source": [
    "cvec = [cl[label] for label in db_labels]\n",
    "plt.scatter(X_transformers[:,0], X_transformers[:,1], c = cvec) \n",
    "plt.show()"
   ]
  },
  {
   "cell_type": "code",
   "execution_count": 40,
   "metadata": {},
   "outputs": [
    {
     "name": "stdout",
     "output_type": "stream",
     "text": [
      "Kmeans\n",
      "[1 0 0]\n"
     ]
    }
   ],
   "source": [
    "from sklearn.cluster import KMeans\n",
    "\n",
    "kmeans = KMeans(n_clusters=2, random_state=0, n_init=\"auto\").fit(X_transformers)\n",
    "kmeans_labels = kmeans.labels_\n",
    "\n",
    "print(\"Kmeans\")\n",
    "print(kmeans.labels_)"
   ]
  },
  {
   "cell_type": "code",
   "execution_count": 34,
   "metadata": {},
   "outputs": [
    {
     "data": {
      "image/png": "[encoded data removed]",
      "text/plain": [
       "<Figure size 640x480 with 1 Axes>"
      ]
     },
     "metadata": {},
     "output_type": "display_data"
    }
   ],
   "source": [
    "cvec = [cl[label] for label in kmeans_labels]\n",
    "plt.scatter(X_transformers[:,0], X_transformers[:,1], c = cvec) \n",
    "plt.show()"
   ]
  },
  {
   "cell_type": "code",
   "execution_count": 58,
   "metadata": {},
   "outputs": [
    {
     "name": "stdout",
     "output_type": "stream",
     "text": [
      "Results:\n",
      "\n",
      "DBSCAN cluster:  {'images1.jpeg': -1, 'images2.jpeg': -1, 'images3.jpeg': -1} \n",
      "\n",
      "KNN cluster:  {'images1.jpeg': 1, 'images2.jpeg': 0, 'images3.jpeg': 0} \n",
      "\n"
     ]
    }
   ],
   "source": [
    "print(\"Results:\\n\")\n",
    "dbs_result = {}\n",
    "for i,j in enumerate(list(data.keys())):\n",
    "    dbs_result[j] = db_default.labels_[i]\n",
    "print(\"DBSCAN cluster: \", dbs_result, '\\n')\n",
    "knn_result = {}\n",
    "for i,j in enumerate(list(data.keys())):\n",
    "    knn_result[j] = kmeans.labels_[i]\n",
    "print(\"KNN cluster: \", knn_result, '\\n')"
   ]
  }
 ],
 "metadata": {
  "kernelspec": {
   "display_name": "Python 3",
   "language": "python",
   "name": "python3"
  },
  "language_info": {
   "codemirror_mode": {
    "name": "ipython",
    "version": 3
   },
   "file_extension": ".py",
   "mimetype": "text/x-python",
   "name": "python",
   "nbconvert_exporter": "python",
   "pygments_lexer": "ipython3",
   "version": "3.12.0"
  }
 },
 "nbformat": 4,
 "nbformat_minor": 2
}
